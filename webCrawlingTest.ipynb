{
 "cells": [
  {
   "cell_type": "code",
   "execution_count": 3,
   "id": "ccf90fdf-16f0-4341-8be2-913ce2cafc49",
   "metadata": {},
   "outputs": [],
   "source": [
    "import requests\n",
    "from bs4 import BeautifulSoup\n"
   ]
  },
  {
   "cell_type": "code",
   "execution_count": 9,
   "id": "0b4af600-c6f5-450f-b68b-c9ab91064750",
   "metadata": {},
   "outputs": [],
   "source": [
    "response = requests.get(\"https://www.scrapingcourse.com/ecommerce/\")\n",
    "soup = BeautifulSoup(response.content, \"html.parser\")"
   ]
  },
  {
   "cell_type": "code",
   "execution_count": 10,
   "id": "e8f128a3-a34a-4b40-aa17-2adc723f3ac6",
   "metadata": {},
   "outputs": [],
   "source": [
    "link_elements = soup.select(\"a[href]\")\n",
    "urls = []\n",
    "for link_element in link_elements:\n",
    "   url = link_element['href']\n",
    "   if \"https://www.scrapingcourse.com/ecommerce/\" in url:\n",
    "      urls.append(url)"
   ]
  },
  {
   "cell_type": "code",
   "execution_count": 10,
   "id": "61e2a1b5-4923-4ae6-9abf-1e1521a03f89",
   "metadata": {},
   "outputs": [
    {
     "name": "stdout",
     "output_type": "stream",
     "text": [
      "https://www.scrapingcourse.com/ecommerce/\n",
      "https://www.scrapingcourse.com/ecommerce/product/artemis-running-short/\n",
      "https://www.scrapingcourse.com/ecommerce/product/mimi-all-purpose-short/\n",
      "https://www.scrapingcourse.com/ecommerce/wp-content/uploads/2024/03/wsh09-gray_back.jpg\n"
     ]
    },
    {
     "name": "stderr",
     "output_type": "stream",
     "text": [
      "Some characters could not be decoded, and were replaced with REPLACEMENT CHARACTER.\n"
     ]
    },
    {
     "name": "stdout",
     "output_type": "stream",
     "text": [
      "https://www.scrapingcourse.com/ecommerce/wp-content/uploads/2024/03/wsh09-gray_alt1.jpg\n"
     ]
    },
    {
     "name": "stderr",
     "output_type": "stream",
     "text": [
      "Some characters could not be decoded, and were replaced with REPLACEMENT CHARACTER.\n"
     ]
    },
    {
     "name": "stdout",
     "output_type": "stream",
     "text": [
      "https://www.scrapingcourse.com/ecommerce/wp-content/uploads/2024/03/wsh09-gray_main.jpg\n"
     ]
    },
    {
     "name": "stderr",
     "output_type": "stream",
     "text": [
      "Some characters could not be decoded, and were replaced with REPLACEMENT CHARACTER.\n"
     ]
    },
    {
     "name": "stdout",
     "output_type": "stream",
     "text": [
      "https://www.scrapingcourse.com/ecommerce/wp-content/uploads/2024/03/wsh04-black_back.jpg\n"
     ]
    },
    {
     "name": "stderr",
     "output_type": "stream",
     "text": [
      "Some characters could not be decoded, and were replaced with REPLACEMENT CHARACTER.\n"
     ]
    },
    {
     "name": "stdout",
     "output_type": "stream",
     "text": [
      "https://www.scrapingcourse.com/ecommerce/wp-content/uploads/2024/03/wsh04-black_alt1.jpg\n"
     ]
    },
    {
     "name": "stderr",
     "output_type": "stream",
     "text": [
      "Some characters could not be decoded, and were replaced with REPLACEMENT CHARACTER.\n"
     ]
    },
    {
     "name": "stdout",
     "output_type": "stream",
     "text": [
      "https://www.scrapingcourse.com/ecommerce/wp-content/uploads/2024/03/wsh04-black_main.jpg\n"
     ]
    },
    {
     "name": "stderr",
     "output_type": "stream",
     "text": [
      "Some characters could not be decoded, and were replaced with REPLACEMENT CHARACTER.\n"
     ]
    },
    {
     "name": "stdout",
     "output_type": "stream",
     "text": [
      "https://www.scrapingcourse.com/ecommerce/product-category/clothing/women/bottoms-women/shorts-bottoms-women/\n",
      "https://www.scrapingcourse.com/ecommerce/product-category/clothing/women/bottoms-women/\n",
      "https://www.scrapingcourse.com/ecommerce/product/ida-workout-parachute-pant/\n",
      "https://www.scrapingcourse.com/ecommerce/wp-content/uploads/2024/03/wp03-blue_back.jpg\n"
     ]
    },
    {
     "name": "stderr",
     "output_type": "stream",
     "text": [
      "Some characters could not be decoded, and were replaced with REPLACEMENT CHARACTER.\n"
     ]
    },
    {
     "name": "stdout",
     "output_type": "stream",
     "text": [
      "https://www.scrapingcourse.com/ecommerce/wp-content/uploads/2024/03/wp03-blue_alt1.jpg\n"
     ]
    },
    {
     "name": "stderr",
     "output_type": "stream",
     "text": [
      "Some characters could not be decoded, and were replaced with REPLACEMENT CHARACTER.\n"
     ]
    },
    {
     "name": "stdout",
     "output_type": "stream",
     "text": [
      "https://www.scrapingcourse.com/ecommerce/wp-content/uploads/2024/03/wp03-blue_main.jpg\n"
     ]
    },
    {
     "name": "stderr",
     "output_type": "stream",
     "text": [
      "Some characters could not be decoded, and were replaced with REPLACEMENT CHARACTER.\n"
     ]
    },
    {
     "name": "stdout",
     "output_type": "stream",
     "text": [
      "https://www.scrapingcourse.com/ecommerce/product-category/clothing/women/bottoms-women/pantsclothing-bottoms-women/promotions-pantsclothing-bottoms-women/pantsclothing-promotions-pantsclothing-bottoms-women/collections-pantsclothing-promotions-pantsclothing-bottoms-women/new-luma-yoga-collectionclothing-collections-pantsclothing-promotions-pantsclothing-bottoms-women/\n",
      "https://www.scrapingcourse.com/ecommerce/product-category/clothing/women/bottoms-women/pantsclothing-bottoms-women/promotions-pantsclothing-bottoms-women/pantsclothing-promotions-pantsclothing-bottoms-women/collections-pantsclothing-promotions-pantsclothing-bottoms-women/\n",
      "https://www.scrapingcourse.com/ecommerce/product/sahara-leggings/\n",
      "https://www.scrapingcourse.com/ecommerce/wp-content/uploads/2024/03/wp05-gray_back.jpg\n"
     ]
    },
    {
     "name": "stderr",
     "output_type": "stream",
     "text": [
      "Some characters could not be decoded, and were replaced with REPLACEMENT CHARACTER.\n"
     ]
    },
    {
     "name": "stdout",
     "output_type": "stream",
     "text": [
      "https://www.scrapingcourse.com/ecommerce/wp-content/uploads/2024/03/wp05-gray_alt1.jpg\n"
     ]
    },
    {
     "name": "stderr",
     "output_type": "stream",
     "text": [
      "Some characters could not be decoded, and were replaced with REPLACEMENT CHARACTER.\n"
     ]
    },
    {
     "name": "stdout",
     "output_type": "stream",
     "text": [
      "https://www.scrapingcourse.com/ecommerce/wp-content/uploads/2024/03/wp05-gray_main.jpg\n"
     ]
    },
    {
     "name": "stderr",
     "output_type": "stream",
     "text": [
      "Some characters could not be decoded, and were replaced with REPLACEMENT CHARACTER.\n"
     ]
    },
    {
     "name": "stdout",
     "output_type": "stream",
     "text": [
      "https://www.scrapingcourse.com/ecommerce/product/portia-capri/\n",
      "https://www.scrapingcourse.com/ecommerce/wp-content/uploads/2024/03/wp13-orange_back.jpg\n"
     ]
    },
    {
     "name": "stderr",
     "output_type": "stream",
     "text": [
      "Some characters could not be decoded, and were replaced with REPLACEMENT CHARACTER.\n"
     ]
    },
    {
     "name": "stdout",
     "output_type": "stream",
     "text": [
      "https://www.scrapingcourse.com/ecommerce/wp-content/uploads/2024/03/wp13-orange_main.jpg\n"
     ]
    },
    {
     "name": "stderr",
     "output_type": "stream",
     "text": [
      "Some characters could not be decoded, and were replaced with REPLACEMENT CHARACTER.\n"
     ]
    },
    {
     "name": "stdout",
     "output_type": "stream",
     "text": [
      "https://www.scrapingcourse.com/ecommerce/product/karmen-yoga-pant/\n",
      "https://www.scrapingcourse.com/ecommerce/wp-content/uploads/2024/03/wp01-gray_back.jpg\n"
     ]
    },
    {
     "name": "stderr",
     "output_type": "stream",
     "text": [
      "Some characters could not be decoded, and were replaced with REPLACEMENT CHARACTER.\n"
     ]
    },
    {
     "name": "stdout",
     "output_type": "stream",
     "text": [
      "https://www.scrapingcourse.com/ecommerce/wp-content/uploads/2024/03/wp01-gray_main.jpg\n"
     ]
    },
    {
     "name": "stderr",
     "output_type": "stream",
     "text": [
      "Some characters could not be decoded, and were replaced with REPLACEMENT CHARACTER.\n"
     ]
    },
    {
     "name": "stdout",
     "output_type": "stream",
     "text": [
      "https://www.scrapingcourse.com/ecommerce/product-category/clothing/women/bottoms-women/pantsclothing-bottoms-women/promotions-pantsclothing-bottoms-women/pantsclothing-promotions-pantsclothing-bottoms-women/collections-pantsclothing-promotions-pantsclothing-bottoms-women/performance-fabricsclothing-collections-pantsclothing-promotions-pantsclothing-bottoms-women/\n",
      "https://www.scrapingcourse.com/ecommerce/product-category/clothing/women/bottoms-women/pantsclothing-bottoms-women/promotions-pantsclothing-bottoms-women/pantsclothing-promotions-pantsclothing-bottoms-women/collections-pantsclothing-promotions-pantsclothing-bottoms-women/erin-recommendsclothing-collections-pantsclothing-promotions-pantsclothing-bottoms-women/\n",
      "https://www.scrapingcourse.com/ecommerce/product-category/clothing/women/bottoms-women/pantsclothing-bottoms-women/promotions-pantsclothing-bottoms-women/pantsclothing-promotions-pantsclothing-bottoms-women/collections-pantsclothing-promotions-pantsclothing-bottoms-women/eco-friendlyclothing-collections-pantsclothing-promotions-pantsclothing-bottoms-women/\n",
      "https://www.scrapingcourse.com/ecommerce/product-category/clothing/women/bottoms-women/pantsclothing-bottoms-women/promotions-pantsclothing-bottoms-women/pantsclothing-promotions-pantsclothing-bottoms-women/\n",
      "https://www.scrapingcourse.com/ecommerce/product/sylvia-capri/\n",
      "https://www.scrapingcourse.com/ecommerce/wp-content/uploads/2024/03/wp11-green_back.jpg\n"
     ]
    },
    {
     "name": "stderr",
     "output_type": "stream",
     "text": [
      "Some characters could not be decoded, and were replaced with REPLACEMENT CHARACTER.\n"
     ]
    },
    {
     "name": "stdout",
     "output_type": "stream",
     "text": [
      "https://www.scrapingcourse.com/ecommerce/wp-content/uploads/2024/03/wp11-green_main.jpg\n"
     ]
    },
    {
     "name": "stderr",
     "output_type": "stream",
     "text": [
      "Some characters could not be decoded, and were replaced with REPLACEMENT CHARACTER.\n"
     ]
    },
    {
     "name": "stdout",
     "output_type": "stream",
     "text": [
      "https://www.scrapingcourse.com/ecommerce/product-category/clothing/women/bottoms-women/pantsclothing-bottoms-women/promotions-pantsclothing-bottoms-women/\n",
      "https://www.scrapingcourse.com/ecommerce/product/gwen-drawstring-bike-short/\n",
      "https://www.scrapingcourse.com/ecommerce/wp-content/uploads/2024/03/wsh03-gray_back.jpg\n"
     ]
    },
    {
     "name": "stderr",
     "output_type": "stream",
     "text": [
      "Some characters could not be decoded, and were replaced with REPLACEMENT CHARACTER.\n"
     ]
    },
    {
     "name": "stdout",
     "output_type": "stream",
     "text": [
      "https://www.scrapingcourse.com/ecommerce/wp-content/uploads/2024/03/wsh03-gray_alt1.jpg\n"
     ]
    },
    {
     "name": "stderr",
     "output_type": "stream",
     "text": [
      "Some characters could not be decoded, and were replaced with REPLACEMENT CHARACTER.\n"
     ]
    },
    {
     "name": "stdout",
     "output_type": "stream",
     "text": [
      "https://www.scrapingcourse.com/ecommerce/wp-content/uploads/2024/03/wsh03-gray_main.jpg\n"
     ]
    },
    {
     "name": "stderr",
     "output_type": "stream",
     "text": [
      "Some characters could not be decoded, and were replaced with REPLACEMENT CHARACTER.\n"
     ]
    },
    {
     "name": "stdout",
     "output_type": "stream",
     "text": [
      "https://www.scrapingcourse.com/ecommerce/product-category/clothing/women/bottoms-women/shortsclothing-bottoms-women/collections-shortsclothing-bottoms-women/new-luma-yoga-collectionclothing-collections-shortsclothing-bottoms-women/collections-new-luma-yoga-collectionclothing-collections-shortsclothing-bottoms-women/performance-fabricsclothing-collections-new-luma-yoga-collectionclothing-collections-shortsclothing-bottoms-women/\n",
      "https://www.scrapingcourse.com/ecommerce/product-category/clothing/women/bottoms-women/shortsclothing-bottoms-women/collections-shortsclothing-bottoms-women/new-luma-yoga-collectionclothing-collections-shortsclothing-bottoms-women/collections-new-luma-yoga-collectionclothing-collections-shortsclothing-bottoms-women/\n",
      "https://www.scrapingcourse.com/ecommerce/product-category/clothing/women/bottoms-women/shortsclothing-bottoms-women/collections-shortsclothing-bottoms-women/new-luma-yoga-collectionclothing-collections-shortsclothing-bottoms-women/collections-new-luma-yoga-collectionclothing-collections-shortsclothing-bottoms-women/eco-friendlyclothing-collections-new-luma-yoga-collectionclothing-collections-shortsclothing-bottoms-women/\n",
      "https://www.scrapingcourse.com/ecommerce/product-category/clothing/women/bottoms-women/shortsclothing-bottoms-women/collections-shortsclothing-bottoms-women/new-luma-yoga-collectionclothing-collections-shortsclothing-bottoms-women/\n",
      "https://www.scrapingcourse.com/ecommerce/product-category/clothing/women/bottoms-women/shortsclothing-bottoms-women/collections-shortsclothing-bottoms-women/\n",
      "https://www.scrapingcourse.com/ecommerce/product/sybil-running-short/\n",
      "https://www.scrapingcourse.com/ecommerce/wp-content/uploads/2024/03/wsh08-purple_back.jpg\n"
     ]
    },
    {
     "name": "stderr",
     "output_type": "stream",
     "text": [
      "Some characters could not be decoded, and were replaced with REPLACEMENT CHARACTER.\n"
     ]
    },
    {
     "name": "stdout",
     "output_type": "stream",
     "text": [
      "https://www.scrapingcourse.com/ecommerce/wp-content/uploads/2024/03/wsh08-purple_main.jpg\n"
     ]
    },
    {
     "name": "stderr",
     "output_type": "stream",
     "text": [
      "Some characters could not be decoded, and were replaced with REPLACEMENT CHARACTER.\n"
     ]
    },
    {
     "name": "stdout",
     "output_type": "stream",
     "text": [
      "https://www.scrapingcourse.com/ecommerce/product/ina-compression-short/\n",
      "https://www.scrapingcourse.com/ecommerce/wp-content/uploads/2024/03/wsh11-blue_back.jpg\n"
     ]
    },
    {
     "name": "stderr",
     "output_type": "stream",
     "text": [
      "Some characters could not be decoded, and were replaced with REPLACEMENT CHARACTER.\n"
     ]
    },
    {
     "name": "stdout",
     "output_type": "stream",
     "text": [
      "https://www.scrapingcourse.com/ecommerce/wp-content/uploads/2024/03/wsh11-blue_main.jpg\n"
     ]
    },
    {
     "name": "stderr",
     "output_type": "stream",
     "text": [
      "Some characters could not be decoded, and were replaced with REPLACEMENT CHARACTER.\n"
     ]
    },
    {
     "name": "stdout",
     "output_type": "stream",
     "text": [
      "https://www.scrapingcourse.com/ecommerce/product-category/clothing/women/bottoms-women/shortsclothing-bottoms-women/collections-shortsclothing-bottoms-women/performance-fabricsclothing-collections-shortsclothing-bottoms-women/\n",
      "https://www.scrapingcourse.com/ecommerce/product-category/clothing/women/bottoms-women/shortsclothing-bottoms-women/collections-shortsclothing-bottoms-women/erin-recommendsclothing-collections-shortsclothing-bottoms-women/\n",
      "https://www.scrapingcourse.com/ecommerce/product-category/clothing/women/bottoms-women/shortsclothing-bottoms-women/collections-shortsclothing-bottoms-women/eco-friendlyclothing-collections-shortsclothing-bottoms-women/\n",
      "https://www.scrapingcourse.com/ecommerce/product/fiona-fitness-short/\n",
      "https://www.scrapingcourse.com/ecommerce/wp-content/uploads/2024/03/wsh01-black_back.jpg\n"
     ]
    },
    {
     "name": "stderr",
     "output_type": "stream",
     "text": [
      "Some characters could not be decoded, and were replaced with REPLACEMENT CHARACTER.\n"
     ]
    },
    {
     "name": "stdout",
     "output_type": "stream",
     "text": [
      "https://www.scrapingcourse.com/ecommerce/wp-content/uploads/2024/03/wsh01-black_main.jpg\n"
     ]
    },
    {
     "name": "stderr",
     "output_type": "stream",
     "text": [
      "Some characters could not be decoded, and were replaced with REPLACEMENT CHARACTER.\n"
     ]
    },
    {
     "name": "stdout",
     "output_type": "stream",
     "text": [
      "https://www.scrapingcourse.com/ecommerce/product/erika-running-short/\n",
      "https://www.scrapingcourse.com/ecommerce/wp-content/uploads/2024/03/wsh12-green_back.jpg\n"
     ]
    },
    {
     "name": "stderr",
     "output_type": "stream",
     "text": [
      "Some characters could not be decoded, and were replaced with REPLACEMENT CHARACTER.\n"
     ]
    },
    {
     "name": "stdout",
     "output_type": "stream",
     "text": [
      "https://www.scrapingcourse.com/ecommerce/wp-content/uploads/2024/03/wsh12-green_alt1.jpg\n"
     ]
    },
    {
     "name": "stderr",
     "output_type": "stream",
     "text": [
      "Some characters could not be decoded, and were replaced with REPLACEMENT CHARACTER.\n"
     ]
    },
    {
     "name": "stdout",
     "output_type": "stream",
     "text": [
      "https://www.scrapingcourse.com/ecommerce/wp-content/uploads/2024/03/wsh12-green_main.jpg\n"
     ]
    },
    {
     "name": "stderr",
     "output_type": "stream",
     "text": [
      "Some characters could not be decoded, and were replaced with REPLACEMENT CHARACTER.\n"
     ]
    },
    {
     "name": "stdout",
     "output_type": "stream",
     "text": [
      "https://www.scrapingcourse.com/ecommerce/product/echo-fit-compression-short/\n",
      "https://www.scrapingcourse.com/ecommerce/wp-content/uploads/2024/03/wsh07-black_back.jpg\n"
     ]
    },
    {
     "name": "stderr",
     "output_type": "stream",
     "text": [
      "Some characters could not be decoded, and were replaced with REPLACEMENT CHARACTER.\n"
     ]
    },
    {
     "name": "stdout",
     "output_type": "stream",
     "text": [
      "https://www.scrapingcourse.com/ecommerce/wp-content/uploads/2024/03/wsh07-black_main.jpg\n"
     ]
    },
    {
     "name": "stderr",
     "output_type": "stream",
     "text": [
      "Some characters could not be decoded, and were replaced with REPLACEMENT CHARACTER.\n"
     ]
    },
    {
     "name": "stdout",
     "output_type": "stream",
     "text": [
      "https://www.scrapingcourse.com/ecommerce/product/diana-tights/\n",
      "https://www.scrapingcourse.com/ecommerce/wp-content/uploads/2024/03/wp06-black_outfit.jpg\n"
     ]
    },
    {
     "name": "stderr",
     "output_type": "stream",
     "text": [
      "Some characters could not be decoded, and were replaced with REPLACEMENT CHARACTER.\n"
     ]
    },
    {
     "name": "stdout",
     "output_type": "stream",
     "text": [
      "https://www.scrapingcourse.com/ecommerce/wp-content/uploads/2024/03/wp06-black_back.jpg\n"
     ]
    },
    {
     "name": "stderr",
     "output_type": "stream",
     "text": [
      "Some characters could not be decoded, and were replaced with REPLACEMENT CHARACTER.\n"
     ]
    },
    {
     "name": "stdout",
     "output_type": "stream",
     "text": [
      "https://www.scrapingcourse.com/ecommerce/wp-content/uploads/2024/03/wp06-black_alt1.jpg\n"
     ]
    },
    {
     "name": "stderr",
     "output_type": "stream",
     "text": [
      "Some characters could not be decoded, and were replaced with REPLACEMENT CHARACTER.\n"
     ]
    },
    {
     "name": "stdout",
     "output_type": "stream",
     "text": [
      "https://www.scrapingcourse.com/ecommerce/wp-content/uploads/2024/03/wp06-black_main.jpg\n"
     ]
    },
    {
     "name": "stderr",
     "output_type": "stream",
     "text": [
      "Some characters could not be decoded, and were replaced with REPLACEMENT CHARACTER.\n"
     ]
    },
    {
     "name": "stdout",
     "output_type": "stream",
     "text": [
      "https://www.scrapingcourse.com/ecommerce/product/deirdre-relaxed-fit-capri/\n",
      "https://www.scrapingcourse.com/ecommerce/wp-content/uploads/2024/03/wp12-gray_back.jpg\n"
     ]
    },
    {
     "name": "stderr",
     "output_type": "stream",
     "text": [
      "Some characters could not be decoded, and were replaced with REPLACEMENT CHARACTER.\n"
     ]
    },
    {
     "name": "stdout",
     "output_type": "stream",
     "text": [
      "https://www.scrapingcourse.com/ecommerce/wp-content/uploads/2024/03/wp12-gray_main.jpg\n"
     ]
    },
    {
     "name": "stderr",
     "output_type": "stream",
     "text": [
      "Some characters could not be decoded, and were replaced with REPLACEMENT CHARACTER.\n"
     ]
    },
    {
     "name": "stdout",
     "output_type": "stream",
     "text": [
      "https://www.scrapingcourse.com/ecommerce/product/daria-bikram-pant/\n",
      "https://www.scrapingcourse.com/ecommerce/wp-content/uploads/2024/03/wp10-gray_back.jpg\n"
     ]
    },
    {
     "name": "stderr",
     "output_type": "stream",
     "text": [
      "Some characters could not be decoded, and were replaced with REPLACEMENT CHARACTER.\n"
     ]
    },
    {
     "name": "stdout",
     "output_type": "stream",
     "text": [
      "https://www.scrapingcourse.com/ecommerce/wp-content/uploads/2024/03/wp10-gray_alt1.jpg\n"
     ]
    },
    {
     "ename": "KeyboardInterrupt",
     "evalue": "",
     "output_type": "error",
     "traceback": [
      "\u001b[0;31m---------------------------------------------------------------------------\u001b[0m",
      "\u001b[0;31mKeyboardInterrupt\u001b[0m                         Traceback (most recent call last)",
      "Cell \u001b[0;32mIn[10], line 13\u001b[0m\n\u001b[1;32m     11\u001b[0m \u001b[38;5;66;03m# crawling logic\u001b[39;00m\n\u001b[1;32m     12\u001b[0m response \u001b[38;5;241m=\u001b[39m requests\u001b[38;5;241m.\u001b[39mget(current_url)\n\u001b[0;32m---> 13\u001b[0m soup \u001b[38;5;241m=\u001b[39m \u001b[43mBeautifulSoup\u001b[49m\u001b[43m(\u001b[49m\u001b[43mresponse\u001b[49m\u001b[38;5;241;43m.\u001b[39;49m\u001b[43mcontent\u001b[49m\u001b[43m,\u001b[49m\u001b[43m \u001b[49m\u001b[38;5;124;43m\"\u001b[39;49m\u001b[38;5;124;43mhtml.parser\u001b[39;49m\u001b[38;5;124;43m\"\u001b[39;49m\u001b[43m)\u001b[49m\n\u001b[1;32m     15\u001b[0m link_elements \u001b[38;5;241m=\u001b[39m soup\u001b[38;5;241m.\u001b[39mselect(\u001b[38;5;124m\"\u001b[39m\u001b[38;5;124ma[href]\u001b[39m\u001b[38;5;124m\"\u001b[39m)\n\u001b[1;32m     16\u001b[0m \u001b[38;5;28;01mfor\u001b[39;00m link_element \u001b[38;5;129;01min\u001b[39;00m link_elements:\n",
      "File \u001b[0;32m~/miniconda3/envs/py310/lib/python3.10/site-packages/bs4/__init__.py:328\u001b[0m, in \u001b[0;36mBeautifulSoup.__init__\u001b[0;34m(self, markup, features, builder, parse_only, from_encoding, exclude_encodings, element_classes, **kwargs)\u001b[0m\n\u001b[1;32m    326\u001b[0m rejections \u001b[38;5;241m=\u001b[39m []\n\u001b[1;32m    327\u001b[0m success \u001b[38;5;241m=\u001b[39m \u001b[38;5;28;01mFalse\u001b[39;00m\n\u001b[0;32m--> 328\u001b[0m \u001b[38;5;28;01mfor\u001b[39;00m (\u001b[38;5;28mself\u001b[39m\u001b[38;5;241m.\u001b[39mmarkup, \u001b[38;5;28mself\u001b[39m\u001b[38;5;241m.\u001b[39moriginal_encoding, \u001b[38;5;28mself\u001b[39m\u001b[38;5;241m.\u001b[39mdeclared_html_encoding,\n\u001b[1;32m    329\u001b[0m  \u001b[38;5;28mself\u001b[39m\u001b[38;5;241m.\u001b[39mcontains_replacement_characters) \u001b[38;5;129;01min\u001b[39;00m (\n\u001b[1;32m    330\u001b[0m      \u001b[38;5;28mself\u001b[39m\u001b[38;5;241m.\u001b[39mbuilder\u001b[38;5;241m.\u001b[39mprepare_markup(\n\u001b[1;32m    331\u001b[0m          markup, from_encoding, exclude_encodings\u001b[38;5;241m=\u001b[39mexclude_encodings)):\n\u001b[1;32m    332\u001b[0m     \u001b[38;5;28mself\u001b[39m\u001b[38;5;241m.\u001b[39mreset()\n\u001b[1;32m    333\u001b[0m     \u001b[38;5;28mself\u001b[39m\u001b[38;5;241m.\u001b[39mbuilder\u001b[38;5;241m.\u001b[39minitialize_soup(\u001b[38;5;28mself\u001b[39m)\n",
      "File \u001b[0;32m~/miniconda3/envs/py310/lib/python3.10/site-packages/bs4/builder/_htmlparser.py:361\u001b[0m, in \u001b[0;36mHTMLParserTreeBuilder.prepare_markup\u001b[0;34m(self, markup, user_specified_encoding, document_declared_encoding, exclude_encodings)\u001b[0m\n\u001b[1;32m    358\u001b[0m user_encodings \u001b[38;5;241m=\u001b[39m [document_declared_encoding]\n\u001b[1;32m    360\u001b[0m try_encodings \u001b[38;5;241m=\u001b[39m [user_specified_encoding, document_declared_encoding]\n\u001b[0;32m--> 361\u001b[0m dammit \u001b[38;5;241m=\u001b[39m \u001b[43mUnicodeDammit\u001b[49m\u001b[43m(\u001b[49m\n\u001b[1;32m    362\u001b[0m \u001b[43m    \u001b[49m\u001b[43mmarkup\u001b[49m\u001b[43m,\u001b[49m\n\u001b[1;32m    363\u001b[0m \u001b[43m    \u001b[49m\u001b[43mknown_definite_encodings\u001b[49m\u001b[38;5;241;43m=\u001b[39;49m\u001b[43mknown_definite_encodings\u001b[49m\u001b[43m,\u001b[49m\n\u001b[1;32m    364\u001b[0m \u001b[43m    \u001b[49m\u001b[43muser_encodings\u001b[49m\u001b[38;5;241;43m=\u001b[39;49m\u001b[43muser_encodings\u001b[49m\u001b[43m,\u001b[49m\n\u001b[1;32m    365\u001b[0m \u001b[43m    \u001b[49m\u001b[43mis_html\u001b[49m\u001b[38;5;241;43m=\u001b[39;49m\u001b[38;5;28;43;01mTrue\u001b[39;49;00m\u001b[43m,\u001b[49m\n\u001b[1;32m    366\u001b[0m \u001b[43m    \u001b[49m\u001b[43mexclude_encodings\u001b[49m\u001b[38;5;241;43m=\u001b[39;49m\u001b[43mexclude_encodings\u001b[49m\n\u001b[1;32m    367\u001b[0m \u001b[43m\u001b[49m\u001b[43m)\u001b[49m\n\u001b[1;32m    368\u001b[0m \u001b[38;5;28;01myield\u001b[39;00m (dammit\u001b[38;5;241m.\u001b[39mmarkup, dammit\u001b[38;5;241m.\u001b[39moriginal_encoding,\n\u001b[1;32m    369\u001b[0m        dammit\u001b[38;5;241m.\u001b[39mdeclared_html_encoding,\n\u001b[1;32m    370\u001b[0m        dammit\u001b[38;5;241m.\u001b[39mcontains_replacement_characters)\n",
      "File \u001b[0;32m~/miniconda3/envs/py310/lib/python3.10/site-packages/bs4/dammit.py:611\u001b[0m, in \u001b[0;36mUnicodeDammit.__init__\u001b[0;34m(self, markup, known_definite_encodings, smart_quotes_to, is_html, exclude_encodings, user_encodings, override_encodings)\u001b[0m\n\u001b[1;32m    605\u001b[0m         \u001b[38;5;28;01mbreak\u001b[39;00m\n\u001b[1;32m    607\u001b[0m \u001b[38;5;28;01mif\u001b[39;00m \u001b[38;5;129;01mnot\u001b[39;00m u:\n\u001b[1;32m    608\u001b[0m     \u001b[38;5;66;03m# None of the encodings worked. As an absolute last resort,\u001b[39;00m\n\u001b[1;32m    609\u001b[0m     \u001b[38;5;66;03m# try them again with character replacement.\u001b[39;00m\n\u001b[0;32m--> 611\u001b[0m     \u001b[38;5;28;01mfor\u001b[39;00m encoding \u001b[38;5;129;01min\u001b[39;00m \u001b[38;5;28mself\u001b[39m\u001b[38;5;241m.\u001b[39mdetector\u001b[38;5;241m.\u001b[39mencodings:\n\u001b[1;32m    612\u001b[0m         \u001b[38;5;28;01mif\u001b[39;00m encoding \u001b[38;5;241m!=\u001b[39m \u001b[38;5;124m\"\u001b[39m\u001b[38;5;124mascii\u001b[39m\u001b[38;5;124m\"\u001b[39m:\n\u001b[1;32m    613\u001b[0m             u \u001b[38;5;241m=\u001b[39m \u001b[38;5;28mself\u001b[39m\u001b[38;5;241m.\u001b[39m_convert_from(encoding, \u001b[38;5;124m\"\u001b[39m\u001b[38;5;124mreplace\u001b[39m\u001b[38;5;124m\"\u001b[39m)\n",
      "File \u001b[0;32m~/miniconda3/envs/py310/lib/python3.10/site-packages/bs4/dammit.py:442\u001b[0m, in \u001b[0;36mEncodingDetector.encodings\u001b[0;34m(self)\u001b[0m\n\u001b[1;32m    439\u001b[0m \u001b[38;5;66;03m# Use third-party character set detection to guess at the\u001b[39;00m\n\u001b[1;32m    440\u001b[0m \u001b[38;5;66;03m# encoding.\u001b[39;00m\n\u001b[1;32m    441\u001b[0m \u001b[38;5;28;01mif\u001b[39;00m \u001b[38;5;28mself\u001b[39m\u001b[38;5;241m.\u001b[39mchardet_encoding \u001b[38;5;129;01mis\u001b[39;00m \u001b[38;5;28;01mNone\u001b[39;00m:\n\u001b[0;32m--> 442\u001b[0m     \u001b[38;5;28mself\u001b[39m\u001b[38;5;241m.\u001b[39mchardet_encoding \u001b[38;5;241m=\u001b[39m \u001b[43mchardet_dammit\u001b[49m\u001b[43m(\u001b[49m\u001b[38;5;28;43mself\u001b[39;49m\u001b[38;5;241;43m.\u001b[39;49m\u001b[43mmarkup\u001b[49m\u001b[43m)\u001b[49m\n\u001b[1;32m    443\u001b[0m \u001b[38;5;28;01mif\u001b[39;00m \u001b[38;5;28mself\u001b[39m\u001b[38;5;241m.\u001b[39m_usable(\u001b[38;5;28mself\u001b[39m\u001b[38;5;241m.\u001b[39mchardet_encoding, tried):\n\u001b[1;32m    444\u001b[0m     \u001b[38;5;28;01myield\u001b[39;00m \u001b[38;5;28mself\u001b[39m\u001b[38;5;241m.\u001b[39mchardet_encoding\n",
      "File \u001b[0;32m~/miniconda3/envs/py310/lib/python3.10/site-packages/bs4/dammit.py:46\u001b[0m, in \u001b[0;36mchardet_dammit\u001b[0;34m(s)\u001b[0m\n\u001b[1;32m     44\u001b[0m \u001b[38;5;28;01mif\u001b[39;00m \u001b[38;5;28misinstance\u001b[39m(s, \u001b[38;5;28mstr\u001b[39m):\n\u001b[1;32m     45\u001b[0m     \u001b[38;5;28;01mreturn\u001b[39;00m \u001b[38;5;28;01mNone\u001b[39;00m\n\u001b[0;32m---> 46\u001b[0m \u001b[38;5;28;01mreturn\u001b[39;00m \u001b[43mchardet_module\u001b[49m\u001b[38;5;241;43m.\u001b[39;49m\u001b[43mdetect\u001b[49m\u001b[43m(\u001b[49m\u001b[43ms\u001b[49m\u001b[43m)\u001b[49m[\u001b[38;5;124m'\u001b[39m\u001b[38;5;124mencoding\u001b[39m\u001b[38;5;124m'\u001b[39m]\n",
      "File \u001b[0;32m~/miniconda3/envs/py310/lib/python3.10/site-packages/chardet/__init__.py:49\u001b[0m, in \u001b[0;36mdetect\u001b[0;34m(byte_str, should_rename_legacy)\u001b[0m\n\u001b[1;32m     47\u001b[0m     byte_str \u001b[38;5;241m=\u001b[39m \u001b[38;5;28mbytearray\u001b[39m(byte_str)\n\u001b[1;32m     48\u001b[0m detector \u001b[38;5;241m=\u001b[39m UniversalDetector(should_rename_legacy\u001b[38;5;241m=\u001b[39mshould_rename_legacy)\n\u001b[0;32m---> 49\u001b[0m \u001b[43mdetector\u001b[49m\u001b[38;5;241;43m.\u001b[39;49m\u001b[43mfeed\u001b[49m\u001b[43m(\u001b[49m\u001b[43mbyte_str\u001b[49m\u001b[43m)\u001b[49m\n\u001b[1;32m     50\u001b[0m \u001b[38;5;28;01mreturn\u001b[39;00m detector\u001b[38;5;241m.\u001b[39mclose()\n",
      "File \u001b[0;32m~/miniconda3/envs/py310/lib/python3.10/site-packages/chardet/universaldetector.py:274\u001b[0m, in \u001b[0;36mUniversalDetector.feed\u001b[0;34m(self, byte_str)\u001b[0m\n\u001b[1;32m    272\u001b[0m     \u001b[38;5;28mself\u001b[39m\u001b[38;5;241m.\u001b[39m_charset_probers\u001b[38;5;241m.\u001b[39mappend(MacRomanProber())\n\u001b[1;32m    273\u001b[0m \u001b[38;5;28;01mfor\u001b[39;00m prober \u001b[38;5;129;01min\u001b[39;00m \u001b[38;5;28mself\u001b[39m\u001b[38;5;241m.\u001b[39m_charset_probers:\n\u001b[0;32m--> 274\u001b[0m     \u001b[38;5;28;01mif\u001b[39;00m \u001b[43mprober\u001b[49m\u001b[38;5;241;43m.\u001b[39;49m\u001b[43mfeed\u001b[49m\u001b[43m(\u001b[49m\u001b[43mbyte_str\u001b[49m\u001b[43m)\u001b[49m \u001b[38;5;241m==\u001b[39m ProbingState\u001b[38;5;241m.\u001b[39mFOUND_IT:\n\u001b[1;32m    275\u001b[0m         \u001b[38;5;28mself\u001b[39m\u001b[38;5;241m.\u001b[39mresult \u001b[38;5;241m=\u001b[39m {\n\u001b[1;32m    276\u001b[0m             \u001b[38;5;124m\"\u001b[39m\u001b[38;5;124mencoding\u001b[39m\u001b[38;5;124m\"\u001b[39m: prober\u001b[38;5;241m.\u001b[39mcharset_name,\n\u001b[1;32m    277\u001b[0m             \u001b[38;5;124m\"\u001b[39m\u001b[38;5;124mconfidence\u001b[39m\u001b[38;5;124m\"\u001b[39m: prober\u001b[38;5;241m.\u001b[39mget_confidence(),\n\u001b[1;32m    278\u001b[0m             \u001b[38;5;124m\"\u001b[39m\u001b[38;5;124mlanguage\u001b[39m\u001b[38;5;124m\"\u001b[39m: prober\u001b[38;5;241m.\u001b[39mlanguage,\n\u001b[1;32m    279\u001b[0m         }\n\u001b[1;32m    280\u001b[0m         \u001b[38;5;28mself\u001b[39m\u001b[38;5;241m.\u001b[39mdone \u001b[38;5;241m=\u001b[39m \u001b[38;5;28;01mTrue\u001b[39;00m\n",
      "File \u001b[0;32m~/miniconda3/envs/py310/lib/python3.10/site-packages/chardet/charsetgroupprober.py:70\u001b[0m, in \u001b[0;36mCharSetGroupProber.feed\u001b[0;34m(self, byte_str)\u001b[0m\n\u001b[1;32m     68\u001b[0m \u001b[38;5;28;01mif\u001b[39;00m \u001b[38;5;129;01mnot\u001b[39;00m prober\u001b[38;5;241m.\u001b[39mactive:\n\u001b[1;32m     69\u001b[0m     \u001b[38;5;28;01mcontinue\u001b[39;00m\n\u001b[0;32m---> 70\u001b[0m state \u001b[38;5;241m=\u001b[39m \u001b[43mprober\u001b[49m\u001b[38;5;241;43m.\u001b[39;49m\u001b[43mfeed\u001b[49m\u001b[43m(\u001b[49m\u001b[43mbyte_str\u001b[49m\u001b[43m)\u001b[49m\n\u001b[1;32m     71\u001b[0m \u001b[38;5;28;01mif\u001b[39;00m \u001b[38;5;129;01mnot\u001b[39;00m state:\n\u001b[1;32m     72\u001b[0m     \u001b[38;5;28;01mcontinue\u001b[39;00m\n",
      "File \u001b[0;32m~/miniconda3/envs/py310/lib/python3.10/site-packages/chardet/sbcharsetprober.py:122\u001b[0m, in \u001b[0;36mSingleByteCharSetProber.feed\u001b[0;34m(self, byte_str)\u001b[0m\n\u001b[1;32m    120\u001b[0m                 lm_cat \u001b[38;5;241m=\u001b[39m language_model[order][\u001b[38;5;28mself\u001b[39m\u001b[38;5;241m.\u001b[39m_last_order]\n\u001b[1;32m    121\u001b[0m             \u001b[38;5;28mself\u001b[39m\u001b[38;5;241m.\u001b[39m_seq_counters[lm_cat] \u001b[38;5;241m+\u001b[39m\u001b[38;5;241m=\u001b[39m \u001b[38;5;241m1\u001b[39m\n\u001b[0;32m--> 122\u001b[0m     \u001b[38;5;28mself\u001b[39m\u001b[38;5;241m.\u001b[39m_last_order \u001b[38;5;241m=\u001b[39m order\n\u001b[1;32m    124\u001b[0m charset_name \u001b[38;5;241m=\u001b[39m \u001b[38;5;28mself\u001b[39m\u001b[38;5;241m.\u001b[39m_model\u001b[38;5;241m.\u001b[39mcharset_name\n\u001b[1;32m    125\u001b[0m \u001b[38;5;28;01mif\u001b[39;00m \u001b[38;5;28mself\u001b[39m\u001b[38;5;241m.\u001b[39mstate \u001b[38;5;241m==\u001b[39m ProbingState\u001b[38;5;241m.\u001b[39mDETECTING:\n",
      "\u001b[0;31mKeyboardInterrupt\u001b[0m: "
     ]
    }
   ],
   "source": [
    "import requests\n",
    "from bs4 import BeautifulSoup\n",
    "\n",
    "urls = [\"https://www.scrapingcourse.com/ecommerce/\"]\n",
    "visited_urls = []\n",
    "\n",
    "while len(urls) != 0:\n",
    "    \n",
    "    current_url = urls.pop()\n",
    "    print(current_url)\n",
    "    # crawling logic\n",
    "    response = requests.get(current_url)\n",
    "    soup = BeautifulSoup(response.content, \"html.parser\")\n",
    "\n",
    "    link_elements = soup.select(\"a[href]\")\n",
    "    for link_element in link_elements:\n",
    "        url = link_element['href']\n",
    "        if \"https://www.scrapingcourse.com/ecommerce/\" in url and url not in visited_urls:\n",
    "            urls.append(url)\n",
    "            visited_urls.append(url)\n",
    "    # product = {}\n",
    "    # product[\"url\"] = current_url \n",
    "    # product[\"image\"] = soup.select_one(\".wp-post-image\")[\"src\"]\n",
    "    # product[\"title\"] = soup.select_one(\".product_title\").text() \n",
    "    # print(product)\n"
   ]
  },
  {
   "cell_type": "code",
   "execution_count": 7,
   "id": "87448e81-db6c-4446-8903-8b44f570be04",
   "metadata": {},
   "outputs": [
    {
     "ename": "TypeError",
     "evalue": "'str' object is not callable",
     "output_type": "error",
     "traceback": [
      "\u001b[0;31m---------------------------------------------------------------------------\u001b[0m",
      "\u001b[0;31mTypeError\u001b[0m                                 Traceback (most recent call last)",
      "Cell \u001b[0;32mIn[7], line 47\u001b[0m\n\u001b[1;32m     44\u001b[0m     product[\u001b[38;5;124m\"\u001b[39m\u001b[38;5;124mname\u001b[39m\u001b[38;5;124m\"\u001b[39m] \u001b[38;5;241m=\u001b[39m \u001b[38;5;124m\"\u001b[39m\u001b[38;5;124mNo name found\u001b[39m\u001b[38;5;124m\"\u001b[39m\n\u001b[1;32m     46\u001b[0m \u001b[38;5;28;01mif\u001b[39;00m price_element \u001b[38;5;129;01mis\u001b[39;00m \u001b[38;5;129;01mnot\u001b[39;00m \u001b[38;5;28;01mNone\u001b[39;00m:\n\u001b[0;32m---> 47\u001b[0m     product[\u001b[38;5;124m\"\u001b[39m\u001b[38;5;124mprice\u001b[39m\u001b[38;5;124m\"\u001b[39m] \u001b[38;5;241m=\u001b[39m \u001b[43mprice_element\u001b[49m\u001b[38;5;241;43m.\u001b[39;49m\u001b[43mtext\u001b[49m\u001b[43m(\u001b[49m\u001b[43m)\u001b[49m\n\u001b[1;32m     48\u001b[0m \u001b[38;5;28;01melse\u001b[39;00m:\n\u001b[1;32m     49\u001b[0m     product[\u001b[38;5;124m\"\u001b[39m\u001b[38;5;124mprice\u001b[39m\u001b[38;5;124m\"\u001b[39m] \u001b[38;5;241m=\u001b[39m \u001b[38;5;124m\"\u001b[39m\u001b[38;5;124mNo price found\u001b[39m\u001b[38;5;124m\"\u001b[39m\n",
      "\u001b[0;31mTypeError\u001b[0m: 'str' object is not callable"
     ]
    }
   ],
   "source": [
    "import requests\n",
    "from bs4 import BeautifulSoup\n",
    "import csv\n",
    "\n",
    "# initialize the data structure where to\n",
    "# store the scraped data\n",
    "products = []\n",
    "\n",
    "# initialize the list of discovered urls\n",
    "# with the first page to visit\n",
    "urls = [\"https://www.scrapingcourse.com/ecommerce/\"]\n",
    "\n",
    "# until all pages have been visited\n",
    "while len(urls) != 0:\n",
    "    # get the page to visit from the list\n",
    "    current_url = urls.pop()\n",
    "\n",
    "    # crawling logic\n",
    "    response = requests.get(current_url)\n",
    "    soup = BeautifulSoup(response.content, \"html.parser\")\n",
    "\n",
    "    link_elements = soup.select(\"a[href]\")\n",
    "\n",
    "    for link_element in link_elements:\n",
    "        url = link_element[\"href\"]\n",
    "        if \"https://www.scrapingcourse.com/ecommerce/\" in url:\n",
    "            urls.append(url)\n",
    "\n",
    "    # if current_url is product page\n",
    "    product = {}\n",
    "    product[\"url\"] = current_url\n",
    "    product[\"image\"] = soup.select_one(\".wp-post-image\")[\"src\"]\n",
    "    product[\"name\"] = soup.select_one(\".product_title\").text()\n",
    "    product[\"price\"] = soup.select_one(\".price\")\n",
    "\n",
    "    products.append(product)\n",
    "\n",
    "    # initialize the CSV output file\n",
    "    with open('products.csv', 'w') as csv_file:\n",
    "        writer = csv.writer(csv_file)\n",
    "    \n",
    "        # populating the CSV\n",
    "        for product in products:\n",
    "            writer.writerow(product.values())\n"
   ]
  },
  {
   "cell_type": "code",
   "execution_count": null,
   "id": "8162b276-e521-4f49-bd7c-3fac13170217",
   "metadata": {},
   "outputs": [],
   "source": []
  }
 ],
 "metadata": {
  "kernelspec": {
   "display_name": "Python 3 (ipykernel)",
   "language": "python",
   "name": "python3"
  },
  "language_info": {
   "codemirror_mode": {
    "name": "ipython",
    "version": 3
   },
   "file_extension": ".py",
   "mimetype": "text/x-python",
   "name": "python",
   "nbconvert_exporter": "python",
   "pygments_lexer": "ipython3",
   "version": "3.10.13"
  }
 },
 "nbformat": 4,
 "nbformat_minor": 5
}
