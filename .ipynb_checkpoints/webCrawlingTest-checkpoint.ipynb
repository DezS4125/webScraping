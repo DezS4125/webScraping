{
 "cells": [
  {
   "cell_type": "code",
   "execution_count": 3,
   "id": "ccf90fdf-16f0-4341-8be2-913ce2cafc49",
   "metadata": {},
   "outputs": [],
   "source": [
    "import requests\n",
    "from bs4 import BeautifulSoup\n"
   ]
  },
  {
   "cell_type": "code",
   "execution_count": 9,
   "id": "0b4af600-c6f5-450f-b68b-c9ab91064750",
   "metadata": {},
   "outputs": [],
   "source": [
    "response = requests.get(\"https://www.scrapingcourse.com/ecommerce/\")\n",
    "soup = BeautifulSoup(response.content, \"html.parser\")"
   ]
  },
  {
   "cell_type": "code",
   "execution_count": 10,
   "id": "e8f128a3-a34a-4b40-aa17-2adc723f3ac6",
   "metadata": {},
   "outputs": [],
   "source": [
    "link_elements = soup.select(\"a[href]\")\n",
    "urls = []\n",
    "for link_element in link_elements:\n",
    "   url = link_element['href']\n",
    "   if \"https://www.scrapingcourse.com/ecommerce/\" in url:\n",
    "      urls.append(url)"
   ]
  },
  {
   "cell_type": "code",
   "execution_count": 9,
   "id": "61e2a1b5-4923-4ae6-9abf-1e1521a03f89",
   "metadata": {},
   "outputs": [
    {
     "ename": "SyntaxError",
     "evalue": "invalid syntax (613773857.py, line 18)",
     "output_type": "error",
     "traceback": [
      "\u001b[0;36m  Cell \u001b[0;32mIn[9], line 18\u001b[0;36m\u001b[0m\n\u001b[0;31m    if \"https://www.scrapingcourse.com/ecommerce/\" in url && url not in visited_urls:\u001b[0m\n\u001b[0m                                                           ^\u001b[0m\n\u001b[0;31mSyntaxError\u001b[0m\u001b[0;31m:\u001b[0m invalid syntax\n"
     ]
    }
   ],
   "source": [
    "import requests\n",
    "from bs4 import BeautifulSoup\n",
    "\n",
    "urls = [\"https://www.scrapingcourse.com/ecommerce/\"]\n",
    "visited_urls = []\n",
    "\n",
    "while len(urls) != 0:\n",
    "    \n",
    "    current_url = urls.pop()\n",
    "    print(current_url)\n",
    "    # crawling logic\n",
    "    response = requests.get(current_url)\n",
    "    soup = BeautifulSoup(response.content, \"html.parser\")\n",
    "\n",
    "    link_elements = soup.select(\"a[href]\")\n",
    "    for link_element in link_elements:\n",
    "        url = link_element['href']\n",
    "        if \"https://www.scrapingcourse.com/ecommerce/\" in url and url not in visited_urls:\n",
    "            urls.append(url)\n",
    "            visited_urls.append(url)\n",
    "    # product = {}\n",
    "    # product[\"url\"] = current_url \n",
    "    # product[\"image\"] = soup.select_one(\".wp-post-image\")[\"src\"]\n",
    "    # product[\"title\"] = soup.select_one(\".product_title\").text() \n",
    "    # print(product)\n"
   ]
  },
  {
   "cell_type": "code",
   "execution_count": 7,
   "id": "87448e81-db6c-4446-8903-8b44f570be04",
   "metadata": {},
   "outputs": [
    {
     "ename": "TypeError",
     "evalue": "'str' object is not callable",
     "output_type": "error",
     "traceback": [
      "\u001b[0;31m---------------------------------------------------------------------------\u001b[0m",
      "\u001b[0;31mTypeError\u001b[0m                                 Traceback (most recent call last)",
      "Cell \u001b[0;32mIn[7], line 47\u001b[0m\n\u001b[1;32m     44\u001b[0m     product[\u001b[38;5;124m\"\u001b[39m\u001b[38;5;124mname\u001b[39m\u001b[38;5;124m\"\u001b[39m] \u001b[38;5;241m=\u001b[39m \u001b[38;5;124m\"\u001b[39m\u001b[38;5;124mNo name found\u001b[39m\u001b[38;5;124m\"\u001b[39m\n\u001b[1;32m     46\u001b[0m \u001b[38;5;28;01mif\u001b[39;00m price_element \u001b[38;5;129;01mis\u001b[39;00m \u001b[38;5;129;01mnot\u001b[39;00m \u001b[38;5;28;01mNone\u001b[39;00m:\n\u001b[0;32m---> 47\u001b[0m     product[\u001b[38;5;124m\"\u001b[39m\u001b[38;5;124mprice\u001b[39m\u001b[38;5;124m\"\u001b[39m] \u001b[38;5;241m=\u001b[39m \u001b[43mprice_element\u001b[49m\u001b[38;5;241;43m.\u001b[39;49m\u001b[43mtext\u001b[49m\u001b[43m(\u001b[49m\u001b[43m)\u001b[49m\n\u001b[1;32m     48\u001b[0m \u001b[38;5;28;01melse\u001b[39;00m:\n\u001b[1;32m     49\u001b[0m     product[\u001b[38;5;124m\"\u001b[39m\u001b[38;5;124mprice\u001b[39m\u001b[38;5;124m\"\u001b[39m] \u001b[38;5;241m=\u001b[39m \u001b[38;5;124m\"\u001b[39m\u001b[38;5;124mNo price found\u001b[39m\u001b[38;5;124m\"\u001b[39m\n",
      "\u001b[0;31mTypeError\u001b[0m: 'str' object is not callable"
     ]
    }
   ],
   "source": [
    "import requests\n",
    "from bs4 import BeautifulSoup\n",
    "import csv\n",
    "\n",
    "# initialize the data structure where to\n",
    "# store the scraped data\n",
    "products = []\n",
    "\n",
    "# initialize the list of discovered urls\n",
    "# with the first page to visit\n",
    "urls = [\"https://www.scrapingcourse.com/ecommerce/\"]\n",
    "\n",
    "# until all pages have been visited\n",
    "while len(urls) != 0:\n",
    "    # get the page to visit from the list\n",
    "    current_url = urls.pop()\n",
    "\n",
    "    # crawling logic\n",
    "    response = requests.get(current_url)\n",
    "    soup = BeautifulSoup(response.content, \"html.parser\")\n",
    "\n",
    "    link_elements = soup.select(\"a[href]\")\n",
    "\n",
    "    for link_element in link_elements:\n",
    "        url = link_element[\"href\"]\n",
    "        if \"https://www.scrapingcourse.com/ecommerce/\" in url:\n",
    "            urls.append(url)\n",
    "\n",
    "    # if current_url is product page\n",
    "    product = {}\n",
    "    product[\"url\"] = current_url\n",
    "    product[\"image\"] = soup.select_one(\".wp-post-image\")[\"src\"]\n",
    "    product[\"name\"] = soup.select_one(\".product_title\").text()\n",
    "    product[\"price\"] = soup.select_one(\".price\")\n",
    "\n",
    "    products.append(product)\n",
    "\n",
    "    # initialize the CSV output file\n",
    "    with open('products.csv', 'w') as csv_file:\n",
    "        writer = csv.writer(csv_file)\n",
    "    \n",
    "        # populating the CSV\n",
    "        for product in products:\n",
    "            writer.writerow(product.values())\n"
   ]
  },
  {
   "cell_type": "code",
   "execution_count": null,
   "id": "8162b276-e521-4f49-bd7c-3fac13170217",
   "metadata": {},
   "outputs": [],
   "source": []
  }
 ],
 "metadata": {
  "kernelspec": {
   "display_name": "Python 3 (ipykernel)",
   "language": "python",
   "name": "python3"
  },
  "language_info": {
   "codemirror_mode": {
    "name": "ipython",
    "version": 3
   },
   "file_extension": ".py",
   "mimetype": "text/x-python",
   "name": "python",
   "nbconvert_exporter": "python",
   "pygments_lexer": "ipython3",
   "version": "3.10.13"
  }
 },
 "nbformat": 4,
 "nbformat_minor": 5
}
