{
 "cells": [
  {
   "cell_type": "code",
   "execution_count": 4,
   "id": "d91dbfef-bc75-441d-a20b-0d6f44f32afc",
   "metadata": {},
   "outputs": [
    {
     "name": "stdout",
     "output_type": "stream",
     "text": [
      "User-Agent:Googlebot\n",
      "User-Agent:Googlebot-Mobile\n",
      "User-Agent:Bingbot\n",
      "Disallow: /cart/\n",
      "Disallow: /checkout/\n",
      "Disallow: /buyer/login/otp\n",
      "Disallow: /user/\n",
      "Disallow: /me/\n",
      "Disallow: /order/\n",
      "Disallow: /daily_discover/\n",
      "Disallow: /mall/just-for-you/\n",
      "Disallow: /mall/*-cat.\n",
      "Disallow: /from_same_shop/\n",
      "Disallow: /you_may_also_like/\n",
      "Disallow: *-i.*/similar?from=flash_sale\n",
      "Disallow: /find_similar_products/\n",
      "Disallow: /top_products\n",
      "Disallow: /search*searchPrefill\n",
      "Disallow: /index.html\n",
      "Disallow: /search*hashtag=\n",
      "Disallow: /search?shop=\n",
      "Disallow: /buyer/*/rating/\n",
      "Disallow: *-cat.*?category=\n",
      "Disallow: /shop/*/search\n",
      "Disallow: /shop/*/details\n",
      "Disallow: /search/?\n",
      "Disallow: /search?brands=\n",
      "Disallow: /search?originalCategoryId= \n",
      "Disallow: /addon-deal-selection/\n",
      "Disallow: /bundle-deal/\n",
      "Disallow: /search_user\n",
      "Disallow: /search?keyword=*.com\n",
      "Disallow: /blog/?s=\n",
      "Disallow: *?sp_atk\n",
      "Disallow: /search?keyword=*.com\n",
      "Disallow: /search?keyword=*Â·com\n",
      "Disallow: /search?keyword=*.tv\n",
      "Disallow: /search?keyword=*.xyz\n",
      "Disallow: /search?keyword=*ãCom\n",
      "Disallow: /search?keyword=*Â·COM\n",
      "Disallow: /search?category=*.com\n",
      "Disallow: /search?category=*Â·com\n",
      "Disallow: /search?category=*.tv\n",
      "Disallow: /search?category=*.xyz\n",
      "Disallow: /search?category=*ãCom\n",
      "Disallow: /search?category=*Â·COM\n",
      "Disallow: *utm_source\n",
      "\n",
      "User-Agent:*\n",
      "Disallow: /cart/\n",
      "Disallow: /checkout/\n",
      "Disallow: /buyer/login/otp\n",
      "Disallow: /user/\n",
      "Disallow: /me/\n",
      "Disallow: /order/\n",
      "Disallow: /daily_discover/\n",
      "Disallow: /mall/just-for-you/\n",
      "Disallow: /mall/*-cat.\n",
      "Disallow: /from_same_shop/\n",
      "Disallow: /you_may_also_like/\n",
      "Disallow: *-i.*/similar\n",
      "Disallow: /find_similar_products/\n",
      "Disallow: /top_products\n",
      "Disallow: /search*searchPrefill\n",
      "Disallow: /index.html\n"
     ]
    }
   ],
   "source": [
    "import requests\n",
    "\n",
    "def print_robots_txt(url):\n",
    "    response = requests.get(url + \"/robots.txt\")\n",
    "    print(response.text)\n",
    "\n",
    "url = 'http://shopee.vn'\n",
    "print_robots_txt(url)\n"
   ]
  },
  {
   "cell_type": "code",
   "execution_count": 11,
   "id": "710731db-6255-46c8-9e48-3c6a12c30112",
   "metadata": {},
   "outputs": [],
   "source": [
    "import requests\n",
    "from bs4 import BeautifulSoup\n",
    "\n",
    "def crawl_website(url):\n",
    "    response = requests.get(url)\n",
    "    soup = BeautifulSoup(response.text, 'html.parser')\n",
    "\n",
    "    for link in soup.find_all('a'):\n",
    "        print(link.get('href'))\n",
    "\n",
    "crawl_website('https://www.scrapingcourse.com/ecommerce/')\n"
   ]
  },
  {
   "cell_type": "code",
   "execution_count": 9,
   "id": "59904b7e-0d1f-4ec2-8757-d622b8404eab",
   "metadata": {},
   "outputs": [
    {
     "name": "stdout",
     "output_type": "stream",
     "text": [
      "You can crawl this website\n"
     ]
    }
   ],
   "source": [
    "import urllib.robotparser\n",
    "\n",
    "def can_crawl(url):\n",
    "    rp = urllib.robotparser.RobotFileParser()\n",
    "    rp.set_url(url + \"/robots.txt\")\n",
    "    rp.read()\n",
    "    return rp.can_fetch(\"*\", url)\n",
    "\n",
    "url = 'https://shopee.vn'\n",
    "if can_crawl(url):\n",
    "    print(\"You can crawl this website\")\n",
    "else:\n",
    "    print(\"You should not crawl this website\")"
   ]
  },
  {
   "cell_type": "code",
   "execution_count": null,
   "id": "0cd8f2d4-3864-4b71-adda-d8be9697f974",
   "metadata": {},
   "outputs": [],
   "source": []
  }
 ],
 "metadata": {
  "kernelspec": {
   "display_name": "Python 3 (ipykernel)",
   "language": "python",
   "name": "python3"
  },
  "language_info": {
   "codemirror_mode": {
    "name": "ipython",
    "version": 3
   },
   "file_extension": ".py",
   "mimetype": "text/x-python",
   "name": "python",
   "nbconvert_exporter": "python",
   "pygments_lexer": "ipython3",
   "version": "3.10.13"
  }
 },
 "nbformat": 4,
 "nbformat_minor": 5
}
